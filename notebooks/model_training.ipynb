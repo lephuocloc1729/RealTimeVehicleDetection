{
  "cells": [
    {
      "cell_type": "code",
      "execution_count": 1,
      "metadata": {
        "id": "imTsCWweP2E4",
        "outputId": "9092c538-f62d-4b32-d03e-494a3d25ac3e",
        "colab": {
          "base_uri": "https://localhost:8080/"
        }
      },
      "outputs": [
        {
          "output_type": "stream",
          "name": "stdout",
          "text": [
            "Mounted at /content/drive\n"
          ]
        }
      ],
      "source": [
        "from google.colab import drive\n",
        "drive.mount('/content/drive')"
      ]
    },
    {
      "cell_type": "code",
      "source": [
        "!pip install -q git+https://github.com/THU-MIG/yolov10.git"
      ],
      "metadata": {
        "id": "u-QHR1LnP8IX"
      },
      "execution_count": null,
      "outputs": []
    },
    {
      "cell_type": "code",
      "source": [
        "!wget -P /content https://github.com/THU-MIG/yolov10/releases/download/v1.1/yolov10n.pt"
      ],
      "metadata": {
        "id": "BTM1Q3XSRVim"
      },
      "execution_count": null,
      "outputs": []
    },
    {
      "cell_type": "code",
      "source": [
        "from ultralytics import YOLOv10\n",
        "model_path = '/content/yolov10n.pt'\n",
        "model = YOLOv10(model_path)\n",
        "model.predict(source = 'https://media.wired.com/photos/593256b42a990b06268a9e21/master/pass/traffic-jam-getty.jpg', conf = 0.25, save = True)"
      ],
      "metadata": {
        "id": "GnurAq1USLEa"
      },
      "execution_count": null,
      "outputs": []
    },
    {
      "cell_type": "code",
      "source": [
        "%cd /content/drive/MyDrive/VehicleDetection/KITTI_datasets\n",
        "!echo 'names:' >> kitti_config.yaml\n",
        "!echo \"- Car\" >> kitti_config.yaml\n",
        "!echo \"- Van\" >> kitti_config.yaml\n",
        "!echo \"- Truck\" >> kitti_config.yaml\n",
        "!echo \"- Pedestrian\" >> kitti_config.yaml\n",
        "!echo \"- Person_sitting\" >> kitti_config.yaml\n",
        "!echo \"- Cyclist\" >> kitti_config.yaml\n",
        "!echo \"- Tram\" >> kitti_config.yaml\n",
        "!echo \"- Misc\" >> kitti_config.yaml\n",
        "!echo \"- DontCare\" >> kitti_config.yaml\n",
        "!echo \"nc: 9\" >> kitti_config.yaml\n",
        "!echo \"train: /content/drive/MyDrive/VehicleDetection/KITTI_datasets/training\" >> kitti_config.yaml\n",
        "!echo \"val: /content/drive/MyDrive/VehicleDetection/KITTI_datasets/training\" >> kitti_config.yaml\n",
        "!echo \"test: /content/drive/MyDrive/VehicleDetection/KITTI_datasets/testing\" >> kitti_config.yaml\n"
      ],
      "metadata": {
        "id": "oWk1mBe3SreN",
        "outputId": "1c300b71-8abe-40e9-9acf-0799a570e309",
        "colab": {
          "base_uri": "https://localhost:8080/"
        }
      },
      "execution_count": 4,
      "outputs": [
        {
          "output_type": "stream",
          "name": "stdout",
          "text": [
            "/content/drive/MyDrive/VehicleDetection/KITTI_datasets\n"
          ]
        }
      ]
    },
    {
      "cell_type": "code",
      "source": [
        "!yolo task=detect mode=train model=yolov8m.pt data='/content/drive/MyDrive/VehicleDetection/KITTI_datasets/kitti_config.yaml' epochs=20 imgsz=640 device=0"
      ],
      "metadata": {
        "id": "KtknwZ8EnlMK"
      },
      "execution_count": null,
      "outputs": []
    },
    {
      "cell_type": "code",
      "source": [
        "import shutil\n",
        "\n",
        "# Define the source and destination paths\n",
        "source_path = '/content/runs/detect/train/weights/best.pt'  # Adjust the path based on your training output\n",
        "destination_path = '/content/drive/MyDrive/VehicleDetection'\n",
        "\n",
        "# Copy the model to Google Drive\n",
        "shutil.copy(source_path, destination_path)\n"
      ],
      "metadata": {
        "id": "j60rmcvsu0Yr",
        "outputId": "866ef8a9-f441-438e-9229-611051768a10",
        "colab": {
          "base_uri": "https://localhost:8080/",
          "height": 56
        }
      },
      "execution_count": 7,
      "outputs": [
        {
          "output_type": "execute_result",
          "data": {
            "text/plain": [
              "'/content/drive/MyDrive/VehicleDetection/best.pt'"
            ],
            "application/vnd.google.colaboratory.intrinsic+json": {
              "type": "string"
            }
          },
          "metadata": {},
          "execution_count": 7
        }
      ]
    },
    {
      "cell_type": "code",
      "source": [],
      "metadata": {
        "id": "t-kkjvMDMpqQ"
      },
      "execution_count": null,
      "outputs": []
    }
  ],
  "metadata": {
    "kernelspec": {
      "display_name": "Python 3",
      "name": "python3"
    },
    "language_info": {
      "codemirror_mode": {
        "name": "ipython",
        "version": 3
      },
      "file_extension": ".py",
      "mimetype": "text/x-python",
      "name": "python",
      "nbconvert_exporter": "python",
      "pygments_lexer": "ipython3",
      "version": "3.12.4"
    },
    "orig_nbformat": 4,
    "colab": {
      "provenance": [],
      "gpuType": "T4"
    },
    "accelerator": "GPU"
  },
  "nbformat": 4,
  "nbformat_minor": 0
}